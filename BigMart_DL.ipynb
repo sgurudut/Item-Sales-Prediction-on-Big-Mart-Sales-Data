{
 "cells": [
  {
   "cell_type": "code",
   "execution_count": 1,
   "id": "1c88a5dc-c176-4b53-a92a-a0acd9afc780",
   "metadata": {
    "tags": []
   },
   "outputs": [],
   "source": [
    "# importing the required libraries\n",
    "import pandas as pd\n",
    "import numpy as np\n",
    "import sklearn\n",
    "from sklearn.model_selection import train_test_split\n",
    "from sklearn.metrics import accuracy_score\n",
    "import matplotlib.pyplot as plt\n",
    "%matplotlib inline"
   ]
  },
  {
   "cell_type": "code",
   "execution_count": null,
   "id": "0a0d5c9c-8683-4bde-afdc-1382ea3613fe",
   "metadata": {
    "tags": []
   },
   "outputs": [],
   "source": [
    "import keras\n",
    "import tensorflow as tf"
   ]
  },
  {
   "cell_type": "code",
   "execution_count": null,
   "id": "631ffb64-1a3e-469f-8fe8-2589fc9d8d90",
   "metadata": {},
   "outputs": [],
   "source": [
    "# loading the pre-processed dataset\n",
    "data = pd.read_csv('big_mart_preprocessed.csv')\n",
    "data_test = pd.read_csv('big_mart_test_preprocessed.csv')"
   ]
  },
  {
   "cell_type": "code",
   "execution_count": null,
   "id": "61c23582-8f97-4246-aaa5-957591a2185f",
   "metadata": {},
   "outputs": [],
   "source": [
    "data.head()"
   ]
  },
  {
   "cell_type": "code",
   "execution_count": null,
   "id": "7a120be8-567d-495b-a9fd-4fbed9262722",
   "metadata": {},
   "outputs": [],
   "source": [
    "data_test.head()"
   ]
  },
  {
   "cell_type": "code",
   "execution_count": null,
   "id": "18b130b3-cf6a-4a8f-b370-53b1bb734cc4",
   "metadata": {},
   "outputs": [],
   "source": [
    "# checking missing values\n",
    "data.isnull().sum()"
   ]
  },
  {
   "cell_type": "code",
   "execution_count": null,
   "id": "d124e504-9678-462b-b3b3-a6d22594f42a",
   "metadata": {},
   "outputs": [],
   "source": [
    "data_test.isnull().sum()"
   ]
  },
  {
   "cell_type": "code",
   "execution_count": null,
   "id": "5215958b-b000-44c7-98e2-d254f94e10df",
   "metadata": {},
   "outputs": [],
   "source": [
    "# checking the data type\n",
    "data.dtypes"
   ]
  },
  {
   "cell_type": "code",
   "execution_count": null,
   "id": "40f6c3f7-ed78-4350-86d3-b0107232d4da",
   "metadata": {},
   "outputs": [],
   "source": [
    "data_test.dtypes"
   ]
  },
  {
   "cell_type": "code",
   "execution_count": null,
   "id": "5673821e-01ee-438c-b081-3946fbb5ddf4",
   "metadata": {},
   "outputs": [],
   "source": [
    "# removing the columns with ID since these are just the unique values\n",
    "data = data.drop('Item_Identifier', axis=1)\n",
    "data = data.drop('Outlet_Identifier', axis=1)"
   ]
  },
  {
   "cell_type": "code",
   "execution_count": null,
   "id": "163f324d-7936-4a2f-a441-dc5d44190d97",
   "metadata": {},
   "outputs": [],
   "source": [
    "data_test = data_test.drop('Item_Identifier', axis=1)\n",
    "data_test = data_test.drop('Outlet_Identifier', axis=1)"
   ]
  },
  {
   "cell_type": "code",
   "execution_count": null,
   "id": "af01775d-e086-4d58-b897-032759850671",
   "metadata": {},
   "outputs": [],
   "source": [
    "data.shape"
   ]
  },
  {
   "cell_type": "code",
   "execution_count": null,
   "id": "7b0e095e-370d-46e4-92a1-638ec14d12f8",
   "metadata": {},
   "outputs": [],
   "source": [
    "data_test.shape"
   ]
  },
  {
   "cell_type": "code",
   "execution_count": null,
   "id": "5b6659d4-a84e-407e-a77a-87aa018e3408",
   "metadata": {},
   "outputs": [],
   "source": [
    "# separating the independent and dependent variables\n",
    "\n",
    "# storing all the independent variables as X\n",
    "X = data.drop('Item_Outlet_Sales', axis=1)\n",
    "\n",
    "# storing the dependent variable as y\n",
    "y = data['Item_Outlet_Sales']\n"
   ]
  },
  {
   "cell_type": "code",
   "execution_count": null,
   "id": "1527455f-95a7-41a1-acf5-9ae4529f4c12",
   "metadata": {},
   "outputs": [],
   "source": [
    "data_test.columns"
   ]
  },
  {
   "cell_type": "code",
   "execution_count": null,
   "id": "11b0757e-d295-49f5-9efe-b4d12a15d18c",
   "metadata": {},
   "outputs": [],
   "source": [
    "X_test = data_test"
   ]
  },
  {
   "cell_type": "code",
   "execution_count": null,
   "id": "4127609f-8b08-4735-af12-285c432db0be",
   "metadata": {},
   "outputs": [],
   "source": [
    "# shape of independent and dependent variables\n",
    "X.shape, y.shape"
   ]
  },
  {
   "cell_type": "code",
   "execution_count": null,
   "id": "038a58fb-a3b4-44c0-b29a-10d4656d18cb",
   "metadata": {},
   "outputs": [],
   "source": [
    "X_test.shape"
   ]
  },
  {
   "cell_type": "code",
   "execution_count": null,
   "id": "2714bbc7-534d-4fa9-964f-966cc101e88b",
   "metadata": {},
   "outputs": [],
   "source": [
    "# importing the sequential model\n",
    "from keras.models import Sequential\n",
    "\n",
    "# importing different layers from keras\n",
    "from keras.layers import InputLayer, Dense"
   ]
  },
  {
   "cell_type": "code",
   "execution_count": null,
   "id": "12ba990f-2b3d-48d9-9d3c-d464ec1af8db",
   "metadata": {},
   "outputs": [],
   "source": [
    "# number of input neurons\n",
    "X.shape"
   ]
  },
  {
   "cell_type": "code",
   "execution_count": null,
   "id": "3ca0f6c1-75f2-4588-85fd-50d64b10c6b6",
   "metadata": {},
   "outputs": [],
   "source": [
    "# number of features in the data\n",
    "X.shape[1]"
   ]
  },
  {
   "cell_type": "code",
   "execution_count": null,
   "id": "307c28c1-dac8-41f6-baf0-683d19f11e23",
   "metadata": {},
   "outputs": [],
   "source": [
    "# defining input neurons\n",
    "input_neurons = X.shape[1]"
   ]
  },
  {
   "cell_type": "code",
   "execution_count": null,
   "id": "b6d60d43-b8fd-4dbf-8c91-df32bf594335",
   "metadata": {},
   "outputs": [],
   "source": [
    "# define number of output neurons\n",
    "output_neurons = X_test.shape[0]"
   ]
  },
  {
   "cell_type": "code",
   "execution_count": null,
   "id": "54283f3c-f38e-46d9-9bb8-36d4c3d126e1",
   "metadata": {},
   "outputs": [],
   "source": [
    "# number of hidden layers and hidden neurons\n",
    "\n",
    "# It is a hyperparameter and we can pick the hidden layers and hidden neurons on our own"
   ]
  },
  {
   "cell_type": "code",
   "execution_count": null,
   "id": "18de6f83-3fea-4ae5-92d4-028188a523b3",
   "metadata": {},
   "outputs": [],
   "source": [
    "# define hidden layers and neuron in each layer\n",
    "number_of_hidden_layers = 2\n",
    "neuron_hidden_layer_1 = 10\n",
    "neuron_hidden_layer_2 = 5"
   ]
  },
  {
   "cell_type": "code",
   "execution_count": null,
   "id": "f6e16251-4b90-46b0-8d5e-293f1a94287f",
   "metadata": {},
   "outputs": [],
   "source": [
    "# defining the architecture of the model\n",
    "model = Sequential()\n",
    "model.add(InputLayer(input_shape=(input_neurons,)))\n",
    "model.add(Dense(units=neuron_hidden_layer_1, activation='relu'))\n",
    "model.add(Dense(units=neuron_hidden_layer_2, activation='relu'))\n",
    "model.add(Dense(units=output_neurons, activation='linear'))"
   ]
  },
  {
   "cell_type": "code",
   "execution_count": null,
   "id": "d4d45463-1401-4aea-b50b-8fb00cda0ffa",
   "metadata": {},
   "outputs": [],
   "source": [
    "# summary of the model\n",
    "model.summary()"
   ]
  },
  {
   "cell_type": "code",
   "execution_count": null,
   "id": "42e6b569-fba6-4b65-9e90-49fb211ca2ce",
   "metadata": {},
   "outputs": [],
   "source": [
    "model.compile(loss='mean_absolute_error',optimizer='Adam',metrics= [tf.keras.metrics.RootMeanSquaredError()])"
   ]
  },
  {
   "cell_type": "code",
   "execution_count": null,
   "id": "b726cca1-7f94-4a5a-87d0-7d7a58662157",
   "metadata": {},
   "outputs": [],
   "source": [
    "model_history = model.fit(X, y, epochs=100, validation_split = 0.2 )"
   ]
  },
  {
   "cell_type": "code",
   "execution_count": null,
   "id": "fc2473fd-f9b9-45e3-a8ab-25ea8444c4f9",
   "metadata": {},
   "outputs": [],
   "source": [
    "# getting predictions for the validation set\n",
    "prediction = model.predict_classes(X_test)"
   ]
  },
  {
   "cell_type": "code",
   "execution_count": null,
   "id": "86eeef3d-bc3d-436e-9124-5a5d19ab4bef",
   "metadata": {},
   "outputs": [],
   "source": [
    "# summarize history for loss\n",
    "plt.plot(model_history.history['loss'])\n",
    "plt.plot(model_history.history['val_loss'])\n",
    "plt.title('model loss')\n",
    "plt.ylabel('loss')\n",
    "plt.xlabel('epoch')\n",
    "plt.legend(['train', 'validation'], loc='upper left')\n",
    "plt.show()"
   ]
  },
  {
   "cell_type": "code",
   "execution_count": null,
   "id": "955f437b-166e-4490-ae30-bf517bfcdb7b",
   "metadata": {},
   "outputs": [],
   "source": [
    "print(prediction)"
   ]
  },
  {
   "cell_type": "code",
   "execution_count": null,
   "id": "b4583b04-41f9-419d-a261-c9c5ed4fd030",
   "metadata": {},
   "outputs": [],
   "source": [
    "# summarize history for accuracy\n",
    "plt.plot(model_history.history['root_mean_squared_error'])\n",
    "plt.plot(model_history.history['val_root_mean_squared_error'])\n",
    "plt.title('model rmse')\n",
    "plt.ylabel('rmse')\n",
    "plt.xlabel('epoch')\n",
    "plt.legend(['train', 'validation'], loc='upper left')\n",
    "plt.show()"
   ]
  },
  {
   "cell_type": "code",
   "execution_count": null,
   "id": "b8057d15-2634-4ac8-b98f-268c5d74b5e7",
   "metadata": {},
   "outputs": [],
   "source": []
  },
  {
   "cell_type": "code",
   "execution_count": null,
   "id": "3ac4f19e-4ef8-4a59-910c-eccd71751b49",
   "metadata": {},
   "outputs": [],
   "source": []
  }
 ],
 "metadata": {
  "kernelspec": {
   "display_name": "Python 3 (ipykernel)",
   "language": "python",
   "name": "python3"
  },
  "language_info": {
   "codemirror_mode": {
    "name": "ipython",
    "version": 3
   },
   "file_extension": ".py",
   "mimetype": "text/x-python",
   "name": "python",
   "nbconvert_exporter": "python",
   "pygments_lexer": "ipython3",
   "version": "3.8.12"
  }
 },
 "nbformat": 4,
 "nbformat_minor": 5
}
