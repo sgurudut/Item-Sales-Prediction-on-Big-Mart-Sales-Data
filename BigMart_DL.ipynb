{
  "cells": [
    {
      "cell_type": "markdown",
      "metadata": {
        "id": "view-in-github",
        "colab_type": "text"
      },
      "source": [
        "<a href=\"https://colab.research.google.com/github/sgurudut/Item-Sales-Prediction-on-Big-Mart-Sales-Data/blob/main/BigMart_DL.ipynb\" target=\"_parent\"><img src=\"https://colab.research.google.com/assets/colab-badge.svg\" alt=\"Open In Colab\"/></a>"
      ]
    },
    {
      "cell_type": "code",
      "execution_count": 1,
      "id": "1c88a5dc-c176-4b53-a92a-a0acd9afc780",
      "metadata": {
        "tags": [],
        "id": "1c88a5dc-c176-4b53-a92a-a0acd9afc780"
      },
      "outputs": [],
      "source": [
        "# importing the required libraries\n",
        "import pandas as pd\n",
        "import numpy as np\n",
        "import sklearn\n",
        "from sklearn.model_selection import train_test_split\n",
        "from sklearn.metrics import accuracy_score\n",
        "import matplotlib.pyplot as plt\n",
        "%matplotlib inline"
      ]
    },
    {
      "cell_type": "code",
      "execution_count": 2,
      "id": "0a0d5c9c-8683-4bde-afdc-1382ea3613fe",
      "metadata": {
        "tags": [],
        "id": "0a0d5c9c-8683-4bde-afdc-1382ea3613fe"
      },
      "outputs": [],
      "source": [
        "import keras\n",
        "import tensorflow as tf"
      ]
    },
    {
      "cell_type": "code",
      "source": [
        "from google.colab import drive\n",
        "drive.mount('/content/drive')"
      ],
      "metadata": {
        "colab": {
          "base_uri": "https://localhost:8080/"
        },
        "id": "6zBNAEayVwVd",
        "outputId": "d12907c6-c858-47a9-b68f-82636346bf78"
      },
      "id": "6zBNAEayVwVd",
      "execution_count": 3,
      "outputs": [
        {
          "output_type": "stream",
          "name": "stdout",
          "text": [
            "Mounted at /content/drive\n"
          ]
        }
      ]
    },
    {
      "cell_type": "code",
      "execution_count": 4,
      "id": "631ffb64-1a3e-469f-8fe8-2589fc9d8d90",
      "metadata": {
        "id": "631ffb64-1a3e-469f-8fe8-2589fc9d8d90"
      },
      "outputs": [],
      "source": [
        "# loading the pre-processed dataset\n",
        "data = pd.read_csv('/content/drive/MyDrive/BigMartData/big_mart_preprocessed.csv')\n",
        "data_test = pd.read_csv('/content/drive/MyDrive/BigMartData/big_mart_test_preprocessed.csv')"
      ]
    },
    {
      "cell_type": "code",
      "execution_count": 5,
      "id": "61c23582-8f97-4246-aaa5-957591a2185f",
      "metadata": {
        "colab": {
          "base_uri": "https://localhost:8080/",
          "height": 270
        },
        "id": "61c23582-8f97-4246-aaa5-957591a2185f",
        "outputId": "ddadb790-2e0c-4dfb-a7d0-efc41d2f7130"
      },
      "outputs": [
        {
          "output_type": "execute_result",
          "data": {
            "text/plain": [
              "  Item_Identifier  Item_Weight  Item_Fat_Content  Item_Visibility  Item_Type  \\\n",
              "0           FDA15     0.282525               0.0         0.048866   0.000000   \n",
              "1           DRC01     0.081274               1.0         0.058705   0.066667   \n",
              "2           FDN15     0.770765               0.0         0.051037   0.133333   \n",
              "3           FDX07     0.871986               1.0         0.000000   0.200000   \n",
              "4           NCD19     0.260494               0.0         0.000000   0.266667   \n",
              "\n",
              "   Item_MRP Outlet_Identifier  Outlet_Establishment_Year  Outlet_Size  \\\n",
              "0  0.927507            OUT049                   0.583333          0.5   \n",
              "1  0.072068            OUT018                   1.000000          0.5   \n",
              "2  0.468288            OUT049                   0.583333          0.5   \n",
              "3  0.640093            OUT010                   0.541667          0.5   \n",
              "4  0.095805            OUT013                   0.083333          1.0   \n",
              "\n",
              "   Outlet_Location_Type  Outlet_Type  Item_Outlet_Sales  \n",
              "0                   0.0     0.000000           0.283587  \n",
              "1                   1.0     0.333333           0.031419  \n",
              "2                   0.0     0.000000           0.158115  \n",
              "3                   1.0     1.000000           0.053555  \n",
              "4                   1.0     0.000000           0.073651  "
            ],
            "text/html": [
              "\n",
              "  <div id=\"df-b252c1d9-498c-4c95-8e76-a51f6851bf32\">\n",
              "    <div class=\"colab-df-container\">\n",
              "      <div>\n",
              "<style scoped>\n",
              "    .dataframe tbody tr th:only-of-type {\n",
              "        vertical-align: middle;\n",
              "    }\n",
              "\n",
              "    .dataframe tbody tr th {\n",
              "        vertical-align: top;\n",
              "    }\n",
              "\n",
              "    .dataframe thead th {\n",
              "        text-align: right;\n",
              "    }\n",
              "</style>\n",
              "<table border=\"1\" class=\"dataframe\">\n",
              "  <thead>\n",
              "    <tr style=\"text-align: right;\">\n",
              "      <th></th>\n",
              "      <th>Item_Identifier</th>\n",
              "      <th>Item_Weight</th>\n",
              "      <th>Item_Fat_Content</th>\n",
              "      <th>Item_Visibility</th>\n",
              "      <th>Item_Type</th>\n",
              "      <th>Item_MRP</th>\n",
              "      <th>Outlet_Identifier</th>\n",
              "      <th>Outlet_Establishment_Year</th>\n",
              "      <th>Outlet_Size</th>\n",
              "      <th>Outlet_Location_Type</th>\n",
              "      <th>Outlet_Type</th>\n",
              "      <th>Item_Outlet_Sales</th>\n",
              "    </tr>\n",
              "  </thead>\n",
              "  <tbody>\n",
              "    <tr>\n",
              "      <th>0</th>\n",
              "      <td>FDA15</td>\n",
              "      <td>0.282525</td>\n",
              "      <td>0.0</td>\n",
              "      <td>0.048866</td>\n",
              "      <td>0.000000</td>\n",
              "      <td>0.927507</td>\n",
              "      <td>OUT049</td>\n",
              "      <td>0.583333</td>\n",
              "      <td>0.5</td>\n",
              "      <td>0.0</td>\n",
              "      <td>0.000000</td>\n",
              "      <td>0.283587</td>\n",
              "    </tr>\n",
              "    <tr>\n",
              "      <th>1</th>\n",
              "      <td>DRC01</td>\n",
              "      <td>0.081274</td>\n",
              "      <td>1.0</td>\n",
              "      <td>0.058705</td>\n",
              "      <td>0.066667</td>\n",
              "      <td>0.072068</td>\n",
              "      <td>OUT018</td>\n",
              "      <td>1.000000</td>\n",
              "      <td>0.5</td>\n",
              "      <td>1.0</td>\n",
              "      <td>0.333333</td>\n",
              "      <td>0.031419</td>\n",
              "    </tr>\n",
              "    <tr>\n",
              "      <th>2</th>\n",
              "      <td>FDN15</td>\n",
              "      <td>0.770765</td>\n",
              "      <td>0.0</td>\n",
              "      <td>0.051037</td>\n",
              "      <td>0.133333</td>\n",
              "      <td>0.468288</td>\n",
              "      <td>OUT049</td>\n",
              "      <td>0.583333</td>\n",
              "      <td>0.5</td>\n",
              "      <td>0.0</td>\n",
              "      <td>0.000000</td>\n",
              "      <td>0.158115</td>\n",
              "    </tr>\n",
              "    <tr>\n",
              "      <th>3</th>\n",
              "      <td>FDX07</td>\n",
              "      <td>0.871986</td>\n",
              "      <td>1.0</td>\n",
              "      <td>0.000000</td>\n",
              "      <td>0.200000</td>\n",
              "      <td>0.640093</td>\n",
              "      <td>OUT010</td>\n",
              "      <td>0.541667</td>\n",
              "      <td>0.5</td>\n",
              "      <td>1.0</td>\n",
              "      <td>1.000000</td>\n",
              "      <td>0.053555</td>\n",
              "    </tr>\n",
              "    <tr>\n",
              "      <th>4</th>\n",
              "      <td>NCD19</td>\n",
              "      <td>0.260494</td>\n",
              "      <td>0.0</td>\n",
              "      <td>0.000000</td>\n",
              "      <td>0.266667</td>\n",
              "      <td>0.095805</td>\n",
              "      <td>OUT013</td>\n",
              "      <td>0.083333</td>\n",
              "      <td>1.0</td>\n",
              "      <td>1.0</td>\n",
              "      <td>0.000000</td>\n",
              "      <td>0.073651</td>\n",
              "    </tr>\n",
              "  </tbody>\n",
              "</table>\n",
              "</div>\n",
              "      <button class=\"colab-df-convert\" onclick=\"convertToInteractive('df-b252c1d9-498c-4c95-8e76-a51f6851bf32')\"\n",
              "              title=\"Convert this dataframe to an interactive table.\"\n",
              "              style=\"display:none;\">\n",
              "        \n",
              "  <svg xmlns=\"http://www.w3.org/2000/svg\" height=\"24px\"viewBox=\"0 0 24 24\"\n",
              "       width=\"24px\">\n",
              "    <path d=\"M0 0h24v24H0V0z\" fill=\"none\"/>\n",
              "    <path d=\"M18.56 5.44l.94 2.06.94-2.06 2.06-.94-2.06-.94-.94-2.06-.94 2.06-2.06.94zm-11 1L8.5 8.5l.94-2.06 2.06-.94-2.06-.94L8.5 2.5l-.94 2.06-2.06.94zm10 10l.94 2.06.94-2.06 2.06-.94-2.06-.94-.94-2.06-.94 2.06-2.06.94z\"/><path d=\"M17.41 7.96l-1.37-1.37c-.4-.4-.92-.59-1.43-.59-.52 0-1.04.2-1.43.59L10.3 9.45l-7.72 7.72c-.78.78-.78 2.05 0 2.83L4 21.41c.39.39.9.59 1.41.59.51 0 1.02-.2 1.41-.59l7.78-7.78 2.81-2.81c.8-.78.8-2.07 0-2.86zM5.41 20L4 18.59l7.72-7.72 1.47 1.35L5.41 20z\"/>\n",
              "  </svg>\n",
              "      </button>\n",
              "      \n",
              "  <style>\n",
              "    .colab-df-container {\n",
              "      display:flex;\n",
              "      flex-wrap:wrap;\n",
              "      gap: 12px;\n",
              "    }\n",
              "\n",
              "    .colab-df-convert {\n",
              "      background-color: #E8F0FE;\n",
              "      border: none;\n",
              "      border-radius: 50%;\n",
              "      cursor: pointer;\n",
              "      display: none;\n",
              "      fill: #1967D2;\n",
              "      height: 32px;\n",
              "      padding: 0 0 0 0;\n",
              "      width: 32px;\n",
              "    }\n",
              "\n",
              "    .colab-df-convert:hover {\n",
              "      background-color: #E2EBFA;\n",
              "      box-shadow: 0px 1px 2px rgba(60, 64, 67, 0.3), 0px 1px 3px 1px rgba(60, 64, 67, 0.15);\n",
              "      fill: #174EA6;\n",
              "    }\n",
              "\n",
              "    [theme=dark] .colab-df-convert {\n",
              "      background-color: #3B4455;\n",
              "      fill: #D2E3FC;\n",
              "    }\n",
              "\n",
              "    [theme=dark] .colab-df-convert:hover {\n",
              "      background-color: #434B5C;\n",
              "      box-shadow: 0px 1px 3px 1px rgba(0, 0, 0, 0.15);\n",
              "      filter: drop-shadow(0px 1px 2px rgba(0, 0, 0, 0.3));\n",
              "      fill: #FFFFFF;\n",
              "    }\n",
              "  </style>\n",
              "\n",
              "      <script>\n",
              "        const buttonEl =\n",
              "          document.querySelector('#df-b252c1d9-498c-4c95-8e76-a51f6851bf32 button.colab-df-convert');\n",
              "        buttonEl.style.display =\n",
              "          google.colab.kernel.accessAllowed ? 'block' : 'none';\n",
              "\n",
              "        async function convertToInteractive(key) {\n",
              "          const element = document.querySelector('#df-b252c1d9-498c-4c95-8e76-a51f6851bf32');\n",
              "          const dataTable =\n",
              "            await google.colab.kernel.invokeFunction('convertToInteractive',\n",
              "                                                     [key], {});\n",
              "          if (!dataTable) return;\n",
              "\n",
              "          const docLinkHtml = 'Like what you see? Visit the ' +\n",
              "            '<a target=\"_blank\" href=https://colab.research.google.com/notebooks/data_table.ipynb>data table notebook</a>'\n",
              "            + ' to learn more about interactive tables.';\n",
              "          element.innerHTML = '';\n",
              "          dataTable['output_type'] = 'display_data';\n",
              "          await google.colab.output.renderOutput(dataTable, element);\n",
              "          const docLink = document.createElement('div');\n",
              "          docLink.innerHTML = docLinkHtml;\n",
              "          element.appendChild(docLink);\n",
              "        }\n",
              "      </script>\n",
              "    </div>\n",
              "  </div>\n",
              "  "
            ]
          },
          "metadata": {},
          "execution_count": 5
        }
      ],
      "source": [
        "data.head()"
      ]
    },
    {
      "cell_type": "code",
      "execution_count": 6,
      "id": "7a120be8-567d-495b-a9fd-4fbed9262722",
      "metadata": {
        "colab": {
          "base_uri": "https://localhost:8080/",
          "height": 270
        },
        "id": "7a120be8-567d-495b-a9fd-4fbed9262722",
        "outputId": "c485f68c-cef3-4205-9d75-3e7ccf7dfdeb"
      },
      "outputs": [
        {
          "output_type": "execute_result",
          "data": {
            "text/plain": [
              "  Item_Identifier  Item_Weight  Item_Fat_Content  Item_Visibility  Item_Type  \\\n",
              "0           FDW58     0.964275               0.0         0.023374   0.400000   \n",
              "1           FDW14     0.222983               1.0         0.118737   0.000000   \n",
              "2           NCN55     0.598095               0.0         0.307674   0.933333   \n",
              "3           FDQ58     0.164335               0.0         0.047548   0.400000   \n",
              "4           FDY38     0.484706               1.0         0.366458   0.000000   \n",
              "\n",
              "   Item_MRP Outlet_Identifier  Outlet_Establishment_Year  Outlet_Size  \\\n",
              "0  0.323413            OUT049                   0.583333          0.5   \n",
              "1  0.235849            OUT017                   0.916667          0.5   \n",
              "2  0.894140            OUT010                   0.541667          0.5   \n",
              "3  0.524488            OUT017                   0.916667          0.5   \n",
              "4  0.862069            OUT027                   0.000000          0.5   \n",
              "\n",
              "   Outlet_Location_Type  Outlet_Type  \n",
              "0                   0.0     0.000000  \n",
              "1                   0.5     0.000000  \n",
              "2                   1.0     1.000000  \n",
              "3                   0.5     0.000000  \n",
              "4                   1.0     0.666667  "
            ],
            "text/html": [
              "\n",
              "  <div id=\"df-d9cf3641-f7f6-4b0e-a466-30febeea4ca3\">\n",
              "    <div class=\"colab-df-container\">\n",
              "      <div>\n",
              "<style scoped>\n",
              "    .dataframe tbody tr th:only-of-type {\n",
              "        vertical-align: middle;\n",
              "    }\n",
              "\n",
              "    .dataframe tbody tr th {\n",
              "        vertical-align: top;\n",
              "    }\n",
              "\n",
              "    .dataframe thead th {\n",
              "        text-align: right;\n",
              "    }\n",
              "</style>\n",
              "<table border=\"1\" class=\"dataframe\">\n",
              "  <thead>\n",
              "    <tr style=\"text-align: right;\">\n",
              "      <th></th>\n",
              "      <th>Item_Identifier</th>\n",
              "      <th>Item_Weight</th>\n",
              "      <th>Item_Fat_Content</th>\n",
              "      <th>Item_Visibility</th>\n",
              "      <th>Item_Type</th>\n",
              "      <th>Item_MRP</th>\n",
              "      <th>Outlet_Identifier</th>\n",
              "      <th>Outlet_Establishment_Year</th>\n",
              "      <th>Outlet_Size</th>\n",
              "      <th>Outlet_Location_Type</th>\n",
              "      <th>Outlet_Type</th>\n",
              "    </tr>\n",
              "  </thead>\n",
              "  <tbody>\n",
              "    <tr>\n",
              "      <th>0</th>\n",
              "      <td>FDW58</td>\n",
              "      <td>0.964275</td>\n",
              "      <td>0.0</td>\n",
              "      <td>0.023374</td>\n",
              "      <td>0.400000</td>\n",
              "      <td>0.323413</td>\n",
              "      <td>OUT049</td>\n",
              "      <td>0.583333</td>\n",
              "      <td>0.5</td>\n",
              "      <td>0.0</td>\n",
              "      <td>0.000000</td>\n",
              "    </tr>\n",
              "    <tr>\n",
              "      <th>1</th>\n",
              "      <td>FDW14</td>\n",
              "      <td>0.222983</td>\n",
              "      <td>1.0</td>\n",
              "      <td>0.118737</td>\n",
              "      <td>0.000000</td>\n",
              "      <td>0.235849</td>\n",
              "      <td>OUT017</td>\n",
              "      <td>0.916667</td>\n",
              "      <td>0.5</td>\n",
              "      <td>0.5</td>\n",
              "      <td>0.000000</td>\n",
              "    </tr>\n",
              "    <tr>\n",
              "      <th>2</th>\n",
              "      <td>NCN55</td>\n",
              "      <td>0.598095</td>\n",
              "      <td>0.0</td>\n",
              "      <td>0.307674</td>\n",
              "      <td>0.933333</td>\n",
              "      <td>0.894140</td>\n",
              "      <td>OUT010</td>\n",
              "      <td>0.541667</td>\n",
              "      <td>0.5</td>\n",
              "      <td>1.0</td>\n",
              "      <td>1.000000</td>\n",
              "    </tr>\n",
              "    <tr>\n",
              "      <th>3</th>\n",
              "      <td>FDQ58</td>\n",
              "      <td>0.164335</td>\n",
              "      <td>0.0</td>\n",
              "      <td>0.047548</td>\n",
              "      <td>0.400000</td>\n",
              "      <td>0.524488</td>\n",
              "      <td>OUT017</td>\n",
              "      <td>0.916667</td>\n",
              "      <td>0.5</td>\n",
              "      <td>0.5</td>\n",
              "      <td>0.000000</td>\n",
              "    </tr>\n",
              "    <tr>\n",
              "      <th>4</th>\n",
              "      <td>FDY38</td>\n",
              "      <td>0.484706</td>\n",
              "      <td>1.0</td>\n",
              "      <td>0.366458</td>\n",
              "      <td>0.000000</td>\n",
              "      <td>0.862069</td>\n",
              "      <td>OUT027</td>\n",
              "      <td>0.000000</td>\n",
              "      <td>0.5</td>\n",
              "      <td>1.0</td>\n",
              "      <td>0.666667</td>\n",
              "    </tr>\n",
              "  </tbody>\n",
              "</table>\n",
              "</div>\n",
              "      <button class=\"colab-df-convert\" onclick=\"convertToInteractive('df-d9cf3641-f7f6-4b0e-a466-30febeea4ca3')\"\n",
              "              title=\"Convert this dataframe to an interactive table.\"\n",
              "              style=\"display:none;\">\n",
              "        \n",
              "  <svg xmlns=\"http://www.w3.org/2000/svg\" height=\"24px\"viewBox=\"0 0 24 24\"\n",
              "       width=\"24px\">\n",
              "    <path d=\"M0 0h24v24H0V0z\" fill=\"none\"/>\n",
              "    <path d=\"M18.56 5.44l.94 2.06.94-2.06 2.06-.94-2.06-.94-.94-2.06-.94 2.06-2.06.94zm-11 1L8.5 8.5l.94-2.06 2.06-.94-2.06-.94L8.5 2.5l-.94 2.06-2.06.94zm10 10l.94 2.06.94-2.06 2.06-.94-2.06-.94-.94-2.06-.94 2.06-2.06.94z\"/><path d=\"M17.41 7.96l-1.37-1.37c-.4-.4-.92-.59-1.43-.59-.52 0-1.04.2-1.43.59L10.3 9.45l-7.72 7.72c-.78.78-.78 2.05 0 2.83L4 21.41c.39.39.9.59 1.41.59.51 0 1.02-.2 1.41-.59l7.78-7.78 2.81-2.81c.8-.78.8-2.07 0-2.86zM5.41 20L4 18.59l7.72-7.72 1.47 1.35L5.41 20z\"/>\n",
              "  </svg>\n",
              "      </button>\n",
              "      \n",
              "  <style>\n",
              "    .colab-df-container {\n",
              "      display:flex;\n",
              "      flex-wrap:wrap;\n",
              "      gap: 12px;\n",
              "    }\n",
              "\n",
              "    .colab-df-convert {\n",
              "      background-color: #E8F0FE;\n",
              "      border: none;\n",
              "      border-radius: 50%;\n",
              "      cursor: pointer;\n",
              "      display: none;\n",
              "      fill: #1967D2;\n",
              "      height: 32px;\n",
              "      padding: 0 0 0 0;\n",
              "      width: 32px;\n",
              "    }\n",
              "\n",
              "    .colab-df-convert:hover {\n",
              "      background-color: #E2EBFA;\n",
              "      box-shadow: 0px 1px 2px rgba(60, 64, 67, 0.3), 0px 1px 3px 1px rgba(60, 64, 67, 0.15);\n",
              "      fill: #174EA6;\n",
              "    }\n",
              "\n",
              "    [theme=dark] .colab-df-convert {\n",
              "      background-color: #3B4455;\n",
              "      fill: #D2E3FC;\n",
              "    }\n",
              "\n",
              "    [theme=dark] .colab-df-convert:hover {\n",
              "      background-color: #434B5C;\n",
              "      box-shadow: 0px 1px 3px 1px rgba(0, 0, 0, 0.15);\n",
              "      filter: drop-shadow(0px 1px 2px rgba(0, 0, 0, 0.3));\n",
              "      fill: #FFFFFF;\n",
              "    }\n",
              "  </style>\n",
              "\n",
              "      <script>\n",
              "        const buttonEl =\n",
              "          document.querySelector('#df-d9cf3641-f7f6-4b0e-a466-30febeea4ca3 button.colab-df-convert');\n",
              "        buttonEl.style.display =\n",
              "          google.colab.kernel.accessAllowed ? 'block' : 'none';\n",
              "\n",
              "        async function convertToInteractive(key) {\n",
              "          const element = document.querySelector('#df-d9cf3641-f7f6-4b0e-a466-30febeea4ca3');\n",
              "          const dataTable =\n",
              "            await google.colab.kernel.invokeFunction('convertToInteractive',\n",
              "                                                     [key], {});\n",
              "          if (!dataTable) return;\n",
              "\n",
              "          const docLinkHtml = 'Like what you see? Visit the ' +\n",
              "            '<a target=\"_blank\" href=https://colab.research.google.com/notebooks/data_table.ipynb>data table notebook</a>'\n",
              "            + ' to learn more about interactive tables.';\n",
              "          element.innerHTML = '';\n",
              "          dataTable['output_type'] = 'display_data';\n",
              "          await google.colab.output.renderOutput(dataTable, element);\n",
              "          const docLink = document.createElement('div');\n",
              "          docLink.innerHTML = docLinkHtml;\n",
              "          element.appendChild(docLink);\n",
              "        }\n",
              "      </script>\n",
              "    </div>\n",
              "  </div>\n",
              "  "
            ]
          },
          "metadata": {},
          "execution_count": 6
        }
      ],
      "source": [
        "data_test.head()"
      ]
    },
    {
      "cell_type": "code",
      "execution_count": 7,
      "id": "18b130b3-cf6a-4a8f-b370-53b1bb734cc4",
      "metadata": {
        "colab": {
          "base_uri": "https://localhost:8080/"
        },
        "id": "18b130b3-cf6a-4a8f-b370-53b1bb734cc4",
        "outputId": "68f78e44-7d5a-4d96-86dd-30184728661c"
      },
      "outputs": [
        {
          "output_type": "execute_result",
          "data": {
            "text/plain": [
              "Item_Identifier              0\n",
              "Item_Weight                  0\n",
              "Item_Fat_Content             0\n",
              "Item_Visibility              0\n",
              "Item_Type                    0\n",
              "Item_MRP                     0\n",
              "Outlet_Identifier            0\n",
              "Outlet_Establishment_Year    0\n",
              "Outlet_Size                  0\n",
              "Outlet_Location_Type         0\n",
              "Outlet_Type                  0\n",
              "Item_Outlet_Sales            0\n",
              "dtype: int64"
            ]
          },
          "metadata": {},
          "execution_count": 7
        }
      ],
      "source": [
        "# checking missing values\n",
        "data.isnull().sum()"
      ]
    },
    {
      "cell_type": "code",
      "execution_count": 8,
      "id": "d124e504-9678-462b-b3b3-a6d22594f42a",
      "metadata": {
        "colab": {
          "base_uri": "https://localhost:8080/"
        },
        "id": "d124e504-9678-462b-b3b3-a6d22594f42a",
        "outputId": "73b8ecd5-2409-4181-b55f-9bdf65e67862"
      },
      "outputs": [
        {
          "output_type": "execute_result",
          "data": {
            "text/plain": [
              "Item_Identifier              0\n",
              "Item_Weight                  0\n",
              "Item_Fat_Content             0\n",
              "Item_Visibility              0\n",
              "Item_Type                    0\n",
              "Item_MRP                     0\n",
              "Outlet_Identifier            0\n",
              "Outlet_Establishment_Year    0\n",
              "Outlet_Size                  0\n",
              "Outlet_Location_Type         0\n",
              "Outlet_Type                  0\n",
              "dtype: int64"
            ]
          },
          "metadata": {},
          "execution_count": 8
        }
      ],
      "source": [
        "data_test.isnull().sum()"
      ]
    },
    {
      "cell_type": "code",
      "execution_count": 9,
      "id": "5215958b-b000-44c7-98e2-d254f94e10df",
      "metadata": {
        "colab": {
          "base_uri": "https://localhost:8080/"
        },
        "id": "5215958b-b000-44c7-98e2-d254f94e10df",
        "outputId": "4536e197-49c1-44e6-f6d6-a04fded47f63"
      },
      "outputs": [
        {
          "output_type": "execute_result",
          "data": {
            "text/plain": [
              "Item_Identifier               object\n",
              "Item_Weight                  float64\n",
              "Item_Fat_Content             float64\n",
              "Item_Visibility              float64\n",
              "Item_Type                    float64\n",
              "Item_MRP                     float64\n",
              "Outlet_Identifier             object\n",
              "Outlet_Establishment_Year    float64\n",
              "Outlet_Size                  float64\n",
              "Outlet_Location_Type         float64\n",
              "Outlet_Type                  float64\n",
              "Item_Outlet_Sales            float64\n",
              "dtype: object"
            ]
          },
          "metadata": {},
          "execution_count": 9
        }
      ],
      "source": [
        "# checking the data type\n",
        "data.dtypes"
      ]
    },
    {
      "cell_type": "code",
      "execution_count": 10,
      "id": "40f6c3f7-ed78-4350-86d3-b0107232d4da",
      "metadata": {
        "colab": {
          "base_uri": "https://localhost:8080/"
        },
        "id": "40f6c3f7-ed78-4350-86d3-b0107232d4da",
        "outputId": "6105759a-ac9f-4f96-cf94-25a389b2b28d"
      },
      "outputs": [
        {
          "output_type": "execute_result",
          "data": {
            "text/plain": [
              "Item_Identifier               object\n",
              "Item_Weight                  float64\n",
              "Item_Fat_Content             float64\n",
              "Item_Visibility              float64\n",
              "Item_Type                    float64\n",
              "Item_MRP                     float64\n",
              "Outlet_Identifier             object\n",
              "Outlet_Establishment_Year    float64\n",
              "Outlet_Size                  float64\n",
              "Outlet_Location_Type         float64\n",
              "Outlet_Type                  float64\n",
              "dtype: object"
            ]
          },
          "metadata": {},
          "execution_count": 10
        }
      ],
      "source": [
        "data_test.dtypes"
      ]
    },
    {
      "cell_type": "code",
      "execution_count": 11,
      "id": "5673821e-01ee-438c-b081-3946fbb5ddf4",
      "metadata": {
        "id": "5673821e-01ee-438c-b081-3946fbb5ddf4"
      },
      "outputs": [],
      "source": [
        "# removing the columns with ID since these are just the unique values\n",
        "data = data.drop('Item_Identifier', axis=1)\n",
        "data = data.drop('Outlet_Identifier', axis=1)"
      ]
    },
    {
      "cell_type": "code",
      "execution_count": 12,
      "id": "163f324d-7936-4a2f-a441-dc5d44190d97",
      "metadata": {
        "id": "163f324d-7936-4a2f-a441-dc5d44190d97"
      },
      "outputs": [],
      "source": [
        "data_test = data_test.drop('Item_Identifier', axis=1)\n",
        "data_test = data_test.drop('Outlet_Identifier', axis=1)"
      ]
    },
    {
      "cell_type": "code",
      "execution_count": 13,
      "id": "af01775d-e086-4d58-b897-032759850671",
      "metadata": {
        "colab": {
          "base_uri": "https://localhost:8080/"
        },
        "id": "af01775d-e086-4d58-b897-032759850671",
        "outputId": "da9f610c-47f4-40e9-aa37-fdd8722559d6"
      },
      "outputs": [
        {
          "output_type": "execute_result",
          "data": {
            "text/plain": [
              "(8523, 10)"
            ]
          },
          "metadata": {},
          "execution_count": 13
        }
      ],
      "source": [
        "data.shape"
      ]
    },
    {
      "cell_type": "code",
      "execution_count": 14,
      "id": "7b0e095e-370d-46e4-92a1-638ec14d12f8",
      "metadata": {
        "colab": {
          "base_uri": "https://localhost:8080/"
        },
        "id": "7b0e095e-370d-46e4-92a1-638ec14d12f8",
        "outputId": "023811b0-7f82-4a69-8a4a-76246409248a"
      },
      "outputs": [
        {
          "output_type": "execute_result",
          "data": {
            "text/plain": [
              "(5681, 9)"
            ]
          },
          "metadata": {},
          "execution_count": 14
        }
      ],
      "source": [
        "data_test.shape"
      ]
    },
    {
      "cell_type": "code",
      "execution_count": 15,
      "id": "5b6659d4-a84e-407e-a77a-87aa018e3408",
      "metadata": {
        "id": "5b6659d4-a84e-407e-a77a-87aa018e3408"
      },
      "outputs": [],
      "source": [
        "# separating the independent and dependent variables\n",
        "\n",
        "# storing all the independent variables as X\n",
        "X = data.drop('Item_Outlet_Sales', axis=1)\n",
        "\n",
        "# storing the dependent variable as y\n",
        "y = data['Item_Outlet_Sales']\n"
      ]
    },
    {
      "cell_type": "code",
      "execution_count": 16,
      "id": "1527455f-95a7-41a1-acf5-9ae4529f4c12",
      "metadata": {
        "colab": {
          "base_uri": "https://localhost:8080/"
        },
        "id": "1527455f-95a7-41a1-acf5-9ae4529f4c12",
        "outputId": "050265d4-b7f2-4b74-eecd-e705228bda25"
      },
      "outputs": [
        {
          "output_type": "execute_result",
          "data": {
            "text/plain": [
              "Index(['Item_Weight', 'Item_Fat_Content', 'Item_Visibility', 'Item_Type',\n",
              "       'Item_MRP', 'Outlet_Establishment_Year', 'Outlet_Size',\n",
              "       'Outlet_Location_Type', 'Outlet_Type'],\n",
              "      dtype='object')"
            ]
          },
          "metadata": {},
          "execution_count": 16
        }
      ],
      "source": [
        "data_test.columns"
      ]
    },
    {
      "cell_type": "code",
      "execution_count": 17,
      "id": "11b0757e-d295-49f5-9efe-b4d12a15d18c",
      "metadata": {
        "id": "11b0757e-d295-49f5-9efe-b4d12a15d18c"
      },
      "outputs": [],
      "source": [
        "X_test = data_test"
      ]
    },
    {
      "cell_type": "code",
      "execution_count": 18,
      "id": "4127609f-8b08-4735-af12-285c432db0be",
      "metadata": {
        "colab": {
          "base_uri": "https://localhost:8080/"
        },
        "id": "4127609f-8b08-4735-af12-285c432db0be",
        "outputId": "cd4e8e57-f71d-440a-a5cb-facc4103aa3c"
      },
      "outputs": [
        {
          "output_type": "execute_result",
          "data": {
            "text/plain": [
              "((8523, 9), (8523,))"
            ]
          },
          "metadata": {},
          "execution_count": 18
        }
      ],
      "source": [
        "# shape of independent and dependent variables\n",
        "X.shape, y.shape"
      ]
    },
    {
      "cell_type": "code",
      "execution_count": 19,
      "id": "038a58fb-a3b4-44c0-b29a-10d4656d18cb",
      "metadata": {
        "colab": {
          "base_uri": "https://localhost:8080/"
        },
        "id": "038a58fb-a3b4-44c0-b29a-10d4656d18cb",
        "outputId": "cfd581b8-de7d-46d9-b367-5cf156e8f988"
      },
      "outputs": [
        {
          "output_type": "execute_result",
          "data": {
            "text/plain": [
              "(5681, 9)"
            ]
          },
          "metadata": {},
          "execution_count": 19
        }
      ],
      "source": [
        "X_test.shape"
      ]
    },
    {
      "cell_type": "code",
      "execution_count": 20,
      "id": "2714bbc7-534d-4fa9-964f-966cc101e88b",
      "metadata": {
        "id": "2714bbc7-534d-4fa9-964f-966cc101e88b"
      },
      "outputs": [],
      "source": [
        "# importing the sequential model\n",
        "from keras.models import Sequential\n",
        "\n",
        "# importing different layers from keras\n",
        "from keras.layers import InputLayer, Dense"
      ]
    },
    {
      "cell_type": "code",
      "execution_count": 21,
      "id": "12ba990f-2b3d-48d9-9d3c-d464ec1af8db",
      "metadata": {
        "colab": {
          "base_uri": "https://localhost:8080/"
        },
        "id": "12ba990f-2b3d-48d9-9d3c-d464ec1af8db",
        "outputId": "a0fffaf0-2acc-4852-b3c1-7b0b039fcfcc"
      },
      "outputs": [
        {
          "output_type": "execute_result",
          "data": {
            "text/plain": [
              "(8523, 9)"
            ]
          },
          "metadata": {},
          "execution_count": 21
        }
      ],
      "source": [
        "# number of input neurons\n",
        "X.shape"
      ]
    },
    {
      "cell_type": "code",
      "execution_count": 22,
      "id": "3ca0f6c1-75f2-4588-85fd-50d64b10c6b6",
      "metadata": {
        "colab": {
          "base_uri": "https://localhost:8080/"
        },
        "id": "3ca0f6c1-75f2-4588-85fd-50d64b10c6b6",
        "outputId": "b71ea813-2c67-4639-96a7-3707fec87e91"
      },
      "outputs": [
        {
          "output_type": "execute_result",
          "data": {
            "text/plain": [
              "9"
            ]
          },
          "metadata": {},
          "execution_count": 22
        }
      ],
      "source": [
        "# number of features in the data\n",
        "X.shape[1]"
      ]
    },
    {
      "cell_type": "code",
      "execution_count": 23,
      "id": "307c28c1-dac8-41f6-baf0-683d19f11e23",
      "metadata": {
        "id": "307c28c1-dac8-41f6-baf0-683d19f11e23"
      },
      "outputs": [],
      "source": [
        "# defining input neurons\n",
        "input_neurons = X.shape[1]"
      ]
    },
    {
      "cell_type": "code",
      "execution_count": 24,
      "id": "b6d60d43-b8fd-4dbf-8c91-df32bf594335",
      "metadata": {
        "id": "b6d60d43-b8fd-4dbf-8c91-df32bf594335"
      },
      "outputs": [],
      "source": [
        "# define number of output neurons\n",
        "output_neurons = X_test.shape[0]"
      ]
    },
    {
      "cell_type": "code",
      "execution_count": 25,
      "id": "54283f3c-f38e-46d9-9bb8-36d4c3d126e1",
      "metadata": {
        "id": "54283f3c-f38e-46d9-9bb8-36d4c3d126e1"
      },
      "outputs": [],
      "source": [
        "# number of hidden layers and hidden neurons\n",
        "\n",
        "# It is a hyperparameter and we can pick the hidden layers and hidden neurons on our own"
      ]
    },
    {
      "cell_type": "code",
      "execution_count": 26,
      "id": "18de6f83-3fea-4ae5-92d4-028188a523b3",
      "metadata": {
        "id": "18de6f83-3fea-4ae5-92d4-028188a523b3"
      },
      "outputs": [],
      "source": [
        "# define hidden layers and neuron in each layer\n",
        "number_of_hidden_layers = 2\n",
        "neuron_hidden_layer_1 = 10\n",
        "neuron_hidden_layer_2 = 5"
      ]
    },
    {
      "cell_type": "code",
      "execution_count": 27,
      "id": "f6e16251-4b90-46b0-8d5e-293f1a94287f",
      "metadata": {
        "id": "f6e16251-4b90-46b0-8d5e-293f1a94287f"
      },
      "outputs": [],
      "source": [
        "# defining the architecture of the model\n",
        "model = Sequential()\n",
        "model.add(InputLayer(input_shape=(input_neurons,)))\n",
        "model.add(Dense(units=neuron_hidden_layer_1, activation='relu'))\n",
        "model.add(Dense(units=neuron_hidden_layer_2, activation='relu'))\n",
        "model.add(Dense(units=output_neurons, activation='linear'))"
      ]
    },
    {
      "cell_type": "code",
      "execution_count": 28,
      "id": "d4d45463-1401-4aea-b50b-8fb00cda0ffa",
      "metadata": {
        "colab": {
          "base_uri": "https://localhost:8080/"
        },
        "id": "d4d45463-1401-4aea-b50b-8fb00cda0ffa",
        "outputId": "0e5da871-e3ee-4e23-bb44-0552c3530fd2"
      },
      "outputs": [
        {
          "output_type": "stream",
          "name": "stdout",
          "text": [
            "Model: \"sequential\"\n",
            "_________________________________________________________________\n",
            " Layer (type)                Output Shape              Param #   \n",
            "=================================================================\n",
            " dense (Dense)               (None, 10)                100       \n",
            "                                                                 \n",
            " dense_1 (Dense)             (None, 5)                 55        \n",
            "                                                                 \n",
            " dense_2 (Dense)             (None, 5681)              34086     \n",
            "                                                                 \n",
            "=================================================================\n",
            "Total params: 34,241\n",
            "Trainable params: 34,241\n",
            "Non-trainable params: 0\n",
            "_________________________________________________________________\n"
          ]
        }
      ],
      "source": [
        "# summary of the model\n",
        "model.summary()"
      ]
    },
    {
      "cell_type": "code",
      "execution_count": 29,
      "id": "42e6b569-fba6-4b65-9e90-49fb211ca2ce",
      "metadata": {
        "id": "42e6b569-fba6-4b65-9e90-49fb211ca2ce"
      },
      "outputs": [],
      "source": [
        "model.compile(loss='mean_absolute_error',optimizer='Adam',metrics= [tf.keras.metrics.RootMeanSquaredError()])"
      ]
    },
    {
      "cell_type": "code",
      "execution_count": 30,
      "id": "b726cca1-7f94-4a5a-87d0-7d7a58662157",
      "metadata": {
        "colab": {
          "base_uri": "https://localhost:8080/"
        },
        "id": "b726cca1-7f94-4a5a-87d0-7d7a58662157",
        "outputId": "6bc3d9da-b676-4e64-8beb-bef21c678eb6"
      },
      "outputs": [
        {
          "output_type": "stream",
          "name": "stdout",
          "text": [
            "Epoch 1/100\n",
            "214/214 [==============================] - 3s 10ms/step - loss: 0.0945 - root_mean_squared_error: 0.1320 - val_loss: 0.0779 - val_root_mean_squared_error: 0.1153\n",
            "Epoch 2/100\n",
            "214/214 [==============================] - 2s 9ms/step - loss: 0.0726 - root_mean_squared_error: 0.1046 - val_loss: 0.0702 - val_root_mean_squared_error: 0.1035\n",
            "Epoch 3/100\n",
            "214/214 [==============================] - 2s 9ms/step - loss: 0.0691 - root_mean_squared_error: 0.0992 - val_loss: 0.0674 - val_root_mean_squared_error: 0.0983\n",
            "Epoch 4/100\n",
            "214/214 [==============================] - 2s 10ms/step - loss: 0.0661 - root_mean_squared_error: 0.0948 - val_loss: 0.0643 - val_root_mean_squared_error: 0.0940\n",
            "Epoch 5/100\n",
            "214/214 [==============================] - 2s 10ms/step - loss: 0.0634 - root_mean_squared_error: 0.0908 - val_loss: 0.0621 - val_root_mean_squared_error: 0.0895\n",
            "Epoch 6/100\n",
            "214/214 [==============================] - 2s 7ms/step - loss: 0.0613 - root_mean_squared_error: 0.0876 - val_loss: 0.0601 - val_root_mean_squared_error: 0.0872\n",
            "Epoch 7/100\n",
            "214/214 [==============================] - 1s 5ms/step - loss: 0.0598 - root_mean_squared_error: 0.0853 - val_loss: 0.0593 - val_root_mean_squared_error: 0.0871\n",
            "Epoch 8/100\n",
            "214/214 [==============================] - 1s 5ms/step - loss: 0.0592 - root_mean_squared_error: 0.0842 - val_loss: 0.0587 - val_root_mean_squared_error: 0.0855\n",
            "Epoch 9/100\n",
            "214/214 [==============================] - 1s 5ms/step - loss: 0.0587 - root_mean_squared_error: 0.0838 - val_loss: 0.0594 - val_root_mean_squared_error: 0.0844\n",
            "Epoch 10/100\n",
            "214/214 [==============================] - 1s 5ms/step - loss: 0.0585 - root_mean_squared_error: 0.0835 - val_loss: 0.0583 - val_root_mean_squared_error: 0.0846\n",
            "Epoch 11/100\n",
            "214/214 [==============================] - 1s 5ms/step - loss: 0.0583 - root_mean_squared_error: 0.0831 - val_loss: 0.0587 - val_root_mean_squared_error: 0.0857\n",
            "Epoch 12/100\n",
            "214/214 [==============================] - 1s 5ms/step - loss: 0.0582 - root_mean_squared_error: 0.0831 - val_loss: 0.0580 - val_root_mean_squared_error: 0.0839\n",
            "Epoch 13/100\n",
            "214/214 [==============================] - 1s 5ms/step - loss: 0.0582 - root_mean_squared_error: 0.0831 - val_loss: 0.0579 - val_root_mean_squared_error: 0.0842\n",
            "Epoch 14/100\n",
            "214/214 [==============================] - 1s 5ms/step - loss: 0.0580 - root_mean_squared_error: 0.0828 - val_loss: 0.0580 - val_root_mean_squared_error: 0.0844\n",
            "Epoch 15/100\n",
            "214/214 [==============================] - 1s 5ms/step - loss: 0.0580 - root_mean_squared_error: 0.0829 - val_loss: 0.0580 - val_root_mean_squared_error: 0.0843\n",
            "Epoch 16/100\n",
            "214/214 [==============================] - 1s 5ms/step - loss: 0.0579 - root_mean_squared_error: 0.0827 - val_loss: 0.0589 - val_root_mean_squared_error: 0.0859\n",
            "Epoch 17/100\n",
            "214/214 [==============================] - 1s 4ms/step - loss: 0.0578 - root_mean_squared_error: 0.0827 - val_loss: 0.0581 - val_root_mean_squared_error: 0.0838\n",
            "Epoch 18/100\n",
            "214/214 [==============================] - 1s 5ms/step - loss: 0.0578 - root_mean_squared_error: 0.0827 - val_loss: 0.0581 - val_root_mean_squared_error: 0.0847\n",
            "Epoch 19/100\n",
            "214/214 [==============================] - 1s 5ms/step - loss: 0.0578 - root_mean_squared_error: 0.0826 - val_loss: 0.0580 - val_root_mean_squared_error: 0.0835\n",
            "Epoch 20/100\n",
            "214/214 [==============================] - 1s 5ms/step - loss: 0.0578 - root_mean_squared_error: 0.0827 - val_loss: 0.0578 - val_root_mean_squared_error: 0.0841\n",
            "Epoch 21/100\n",
            "214/214 [==============================] - 1s 5ms/step - loss: 0.0575 - root_mean_squared_error: 0.0824 - val_loss: 0.0579 - val_root_mean_squared_error: 0.0840\n",
            "Epoch 22/100\n",
            "214/214 [==============================] - 1s 5ms/step - loss: 0.0576 - root_mean_squared_error: 0.0824 - val_loss: 0.0581 - val_root_mean_squared_error: 0.0833\n",
            "Epoch 23/100\n",
            "214/214 [==============================] - 1s 5ms/step - loss: 0.0578 - root_mean_squared_error: 0.0827 - val_loss: 0.0589 - val_root_mean_squared_error: 0.0834\n",
            "Epoch 24/100\n",
            "214/214 [==============================] - 1s 5ms/step - loss: 0.0575 - root_mean_squared_error: 0.0823 - val_loss: 0.0579 - val_root_mean_squared_error: 0.0837\n",
            "Epoch 25/100\n",
            "214/214 [==============================] - 1s 5ms/step - loss: 0.0577 - root_mean_squared_error: 0.0824 - val_loss: 0.0578 - val_root_mean_squared_error: 0.0833\n",
            "Epoch 26/100\n",
            "214/214 [==============================] - 1s 5ms/step - loss: 0.0576 - root_mean_squared_error: 0.0823 - val_loss: 0.0580 - val_root_mean_squared_error: 0.0846\n",
            "Epoch 27/100\n",
            "214/214 [==============================] - 1s 4ms/step - loss: 0.0576 - root_mean_squared_error: 0.0824 - val_loss: 0.0584 - val_root_mean_squared_error: 0.0854\n",
            "Epoch 28/100\n",
            "214/214 [==============================] - 1s 5ms/step - loss: 0.0578 - root_mean_squared_error: 0.0827 - val_loss: 0.0577 - val_root_mean_squared_error: 0.0837\n",
            "Epoch 29/100\n",
            "214/214 [==============================] - 1s 5ms/step - loss: 0.0577 - root_mean_squared_error: 0.0827 - val_loss: 0.0592 - val_root_mean_squared_error: 0.0838\n",
            "Epoch 30/100\n",
            "214/214 [==============================] - 1s 5ms/step - loss: 0.0575 - root_mean_squared_error: 0.0823 - val_loss: 0.0578 - val_root_mean_squared_error: 0.0838\n",
            "Epoch 31/100\n",
            "214/214 [==============================] - 1s 5ms/step - loss: 0.0576 - root_mean_squared_error: 0.0824 - val_loss: 0.0577 - val_root_mean_squared_error: 0.0837\n",
            "Epoch 32/100\n",
            "214/214 [==============================] - 1s 5ms/step - loss: 0.0575 - root_mean_squared_error: 0.0823 - val_loss: 0.0578 - val_root_mean_squared_error: 0.0837\n",
            "Epoch 33/100\n",
            "214/214 [==============================] - 1s 5ms/step - loss: 0.0577 - root_mean_squared_error: 0.0827 - val_loss: 0.0579 - val_root_mean_squared_error: 0.0834\n",
            "Epoch 34/100\n",
            "214/214 [==============================] - 1s 5ms/step - loss: 0.0576 - root_mean_squared_error: 0.0824 - val_loss: 0.0577 - val_root_mean_squared_error: 0.0837\n",
            "Epoch 35/100\n",
            "214/214 [==============================] - 1s 5ms/step - loss: 0.0576 - root_mean_squared_error: 0.0824 - val_loss: 0.0579 - val_root_mean_squared_error: 0.0840\n",
            "Epoch 36/100\n",
            "214/214 [==============================] - 1s 5ms/step - loss: 0.0574 - root_mean_squared_error: 0.0823 - val_loss: 0.0577 - val_root_mean_squared_error: 0.0833\n",
            "Epoch 37/100\n",
            "214/214 [==============================] - 1s 5ms/step - loss: 0.0577 - root_mean_squared_error: 0.0826 - val_loss: 0.0580 - val_root_mean_squared_error: 0.0844\n",
            "Epoch 38/100\n",
            "214/214 [==============================] - 1s 5ms/step - loss: 0.0575 - root_mean_squared_error: 0.0824 - val_loss: 0.0579 - val_root_mean_squared_error: 0.0842\n",
            "Epoch 39/100\n",
            "214/214 [==============================] - 1s 6ms/step - loss: 0.0575 - root_mean_squared_error: 0.0823 - val_loss: 0.0578 - val_root_mean_squared_error: 0.0836\n",
            "Epoch 40/100\n",
            "214/214 [==============================] - 1s 5ms/step - loss: 0.0575 - root_mean_squared_error: 0.0822 - val_loss: 0.0577 - val_root_mean_squared_error: 0.0835\n",
            "Epoch 41/100\n",
            "214/214 [==============================] - 1s 5ms/step - loss: 0.0576 - root_mean_squared_error: 0.0824 - val_loss: 0.0578 - val_root_mean_squared_error: 0.0838\n",
            "Epoch 42/100\n",
            "214/214 [==============================] - 1s 5ms/step - loss: 0.0574 - root_mean_squared_error: 0.0821 - val_loss: 0.0577 - val_root_mean_squared_error: 0.0835\n",
            "Epoch 43/100\n",
            "214/214 [==============================] - 1s 5ms/step - loss: 0.0575 - root_mean_squared_error: 0.0824 - val_loss: 0.0577 - val_root_mean_squared_error: 0.0840\n",
            "Epoch 44/100\n",
            "214/214 [==============================] - 1s 5ms/step - loss: 0.0574 - root_mean_squared_error: 0.0822 - val_loss: 0.0578 - val_root_mean_squared_error: 0.0840\n",
            "Epoch 45/100\n",
            "214/214 [==============================] - 1s 5ms/step - loss: 0.0574 - root_mean_squared_error: 0.0823 - val_loss: 0.0584 - val_root_mean_squared_error: 0.0834\n",
            "Epoch 46/100\n",
            "214/214 [==============================] - 1s 5ms/step - loss: 0.0576 - root_mean_squared_error: 0.0825 - val_loss: 0.0577 - val_root_mean_squared_error: 0.0834\n",
            "Epoch 47/100\n",
            "214/214 [==============================] - 1s 5ms/step - loss: 0.0574 - root_mean_squared_error: 0.0822 - val_loss: 0.0579 - val_root_mean_squared_error: 0.0845\n",
            "Epoch 48/100\n",
            "214/214 [==============================] - 1s 5ms/step - loss: 0.0574 - root_mean_squared_error: 0.0823 - val_loss: 0.0577 - val_root_mean_squared_error: 0.0832\n",
            "Epoch 49/100\n",
            "214/214 [==============================] - 1s 5ms/step - loss: 0.0575 - root_mean_squared_error: 0.0825 - val_loss: 0.0582 - val_root_mean_squared_error: 0.0851\n",
            "Epoch 50/100\n",
            "214/214 [==============================] - 1s 4ms/step - loss: 0.0574 - root_mean_squared_error: 0.0823 - val_loss: 0.0580 - val_root_mean_squared_error: 0.0832\n",
            "Epoch 51/100\n",
            "214/214 [==============================] - 1s 5ms/step - loss: 0.0575 - root_mean_squared_error: 0.0823 - val_loss: 0.0577 - val_root_mean_squared_error: 0.0833\n",
            "Epoch 52/100\n",
            "214/214 [==============================] - 1s 5ms/step - loss: 0.0575 - root_mean_squared_error: 0.0824 - val_loss: 0.0578 - val_root_mean_squared_error: 0.0833\n",
            "Epoch 53/100\n",
            "214/214 [==============================] - 1s 5ms/step - loss: 0.0572 - root_mean_squared_error: 0.0819 - val_loss: 0.0577 - val_root_mean_squared_error: 0.0839\n",
            "Epoch 54/100\n",
            "214/214 [==============================] - 1s 5ms/step - loss: 0.0574 - root_mean_squared_error: 0.0822 - val_loss: 0.0577 - val_root_mean_squared_error: 0.0839\n",
            "Epoch 55/100\n",
            "214/214 [==============================] - 1s 5ms/step - loss: 0.0573 - root_mean_squared_error: 0.0823 - val_loss: 0.0577 - val_root_mean_squared_error: 0.0838\n",
            "Epoch 56/100\n",
            "214/214 [==============================] - 1s 5ms/step - loss: 0.0572 - root_mean_squared_error: 0.0820 - val_loss: 0.0579 - val_root_mean_squared_error: 0.0833\n",
            "Epoch 57/100\n",
            "214/214 [==============================] - 1s 5ms/step - loss: 0.0573 - root_mean_squared_error: 0.0823 - val_loss: 0.0579 - val_root_mean_squared_error: 0.0842\n",
            "Epoch 58/100\n",
            "214/214 [==============================] - 1s 5ms/step - loss: 0.0575 - root_mean_squared_error: 0.0825 - val_loss: 0.0577 - val_root_mean_squared_error: 0.0832\n",
            "Epoch 59/100\n",
            "214/214 [==============================] - 1s 5ms/step - loss: 0.0574 - root_mean_squared_error: 0.0823 - val_loss: 0.0576 - val_root_mean_squared_error: 0.0835\n",
            "Epoch 60/100\n",
            "214/214 [==============================] - 1s 5ms/step - loss: 0.0575 - root_mean_squared_error: 0.0824 - val_loss: 0.0578 - val_root_mean_squared_error: 0.0843\n",
            "Epoch 61/100\n",
            "214/214 [==============================] - 1s 5ms/step - loss: 0.0575 - root_mean_squared_error: 0.0823 - val_loss: 0.0578 - val_root_mean_squared_error: 0.0831\n",
            "Epoch 62/100\n",
            "214/214 [==============================] - 1s 5ms/step - loss: 0.0575 - root_mean_squared_error: 0.0824 - val_loss: 0.0579 - val_root_mean_squared_error: 0.0831\n",
            "Epoch 63/100\n",
            "214/214 [==============================] - 1s 5ms/step - loss: 0.0573 - root_mean_squared_error: 0.0820 - val_loss: 0.0577 - val_root_mean_squared_error: 0.0841\n",
            "Epoch 64/100\n",
            "214/214 [==============================] - 2s 10ms/step - loss: 0.0573 - root_mean_squared_error: 0.0823 - val_loss: 0.0574 - val_root_mean_squared_error: 0.0834\n",
            "Epoch 65/100\n",
            "214/214 [==============================] - 2s 8ms/step - loss: 0.0573 - root_mean_squared_error: 0.0821 - val_loss: 0.0577 - val_root_mean_squared_error: 0.0843\n",
            "Epoch 66/100\n",
            "214/214 [==============================] - 1s 5ms/step - loss: 0.0574 - root_mean_squared_error: 0.0824 - val_loss: 0.0576 - val_root_mean_squared_error: 0.0835\n",
            "Epoch 67/100\n",
            "214/214 [==============================] - 1s 5ms/step - loss: 0.0574 - root_mean_squared_error: 0.0823 - val_loss: 0.0576 - val_root_mean_squared_error: 0.0830\n",
            "Epoch 68/100\n",
            "214/214 [==============================] - 1s 4ms/step - loss: 0.0574 - root_mean_squared_error: 0.0823 - val_loss: 0.0582 - val_root_mean_squared_error: 0.0835\n",
            "Epoch 69/100\n",
            "214/214 [==============================] - 1s 5ms/step - loss: 0.0574 - root_mean_squared_error: 0.0822 - val_loss: 0.0585 - val_root_mean_squared_error: 0.0831\n",
            "Epoch 70/100\n",
            "214/214 [==============================] - 1s 5ms/step - loss: 0.0574 - root_mean_squared_error: 0.0823 - val_loss: 0.0576 - val_root_mean_squared_error: 0.0830\n",
            "Epoch 71/100\n",
            "214/214 [==============================] - 1s 5ms/step - loss: 0.0573 - root_mean_squared_error: 0.0821 - val_loss: 0.0575 - val_root_mean_squared_error: 0.0833\n",
            "Epoch 72/100\n",
            "214/214 [==============================] - 1s 5ms/step - loss: 0.0574 - root_mean_squared_error: 0.0824 - val_loss: 0.0579 - val_root_mean_squared_error: 0.0830\n",
            "Epoch 73/100\n",
            "214/214 [==============================] - 1s 5ms/step - loss: 0.0573 - root_mean_squared_error: 0.0821 - val_loss: 0.0575 - val_root_mean_squared_error: 0.0830\n",
            "Epoch 74/100\n",
            "214/214 [==============================] - 1s 5ms/step - loss: 0.0572 - root_mean_squared_error: 0.0820 - val_loss: 0.0595 - val_root_mean_squared_error: 0.0875\n",
            "Epoch 75/100\n",
            "214/214 [==============================] - 1s 5ms/step - loss: 0.0574 - root_mean_squared_error: 0.0824 - val_loss: 0.0580 - val_root_mean_squared_error: 0.0833\n",
            "Epoch 76/100\n",
            "214/214 [==============================] - 1s 5ms/step - loss: 0.0574 - root_mean_squared_error: 0.0822 - val_loss: 0.0580 - val_root_mean_squared_error: 0.0847\n",
            "Epoch 77/100\n",
            "214/214 [==============================] - 1s 5ms/step - loss: 0.0574 - root_mean_squared_error: 0.0822 - val_loss: 0.0575 - val_root_mean_squared_error: 0.0836\n",
            "Epoch 78/100\n",
            "214/214 [==============================] - 1s 5ms/step - loss: 0.0574 - root_mean_squared_error: 0.0823 - val_loss: 0.0576 - val_root_mean_squared_error: 0.0836\n",
            "Epoch 79/100\n",
            "214/214 [==============================] - 1s 5ms/step - loss: 0.0575 - root_mean_squared_error: 0.0824 - val_loss: 0.0577 - val_root_mean_squared_error: 0.0842\n",
            "Epoch 80/100\n",
            "214/214 [==============================] - 1s 5ms/step - loss: 0.0573 - root_mean_squared_error: 0.0823 - val_loss: 0.0580 - val_root_mean_squared_error: 0.0833\n",
            "Epoch 81/100\n",
            "214/214 [==============================] - 1s 4ms/step - loss: 0.0573 - root_mean_squared_error: 0.0822 - val_loss: 0.0575 - val_root_mean_squared_error: 0.0832\n",
            "Epoch 82/100\n",
            "214/214 [==============================] - 1s 5ms/step - loss: 0.0572 - root_mean_squared_error: 0.0820 - val_loss: 0.0578 - val_root_mean_squared_error: 0.0835\n",
            "Epoch 83/100\n",
            "214/214 [==============================] - 1s 5ms/step - loss: 0.0573 - root_mean_squared_error: 0.0824 - val_loss: 0.0586 - val_root_mean_squared_error: 0.0837\n",
            "Epoch 84/100\n",
            "214/214 [==============================] - 1s 5ms/step - loss: 0.0573 - root_mean_squared_error: 0.0822 - val_loss: 0.0576 - val_root_mean_squared_error: 0.0832\n",
            "Epoch 85/100\n",
            "214/214 [==============================] - 1s 5ms/step - loss: 0.0572 - root_mean_squared_error: 0.0820 - val_loss: 0.0577 - val_root_mean_squared_error: 0.0832\n",
            "Epoch 86/100\n",
            "214/214 [==============================] - 1s 5ms/step - loss: 0.0573 - root_mean_squared_error: 0.0824 - val_loss: 0.0578 - val_root_mean_squared_error: 0.0831\n",
            "Epoch 87/100\n",
            "214/214 [==============================] - 1s 5ms/step - loss: 0.0572 - root_mean_squared_error: 0.0820 - val_loss: 0.0579 - val_root_mean_squared_error: 0.0851\n",
            "Epoch 88/100\n",
            "214/214 [==============================] - 1s 5ms/step - loss: 0.0573 - root_mean_squared_error: 0.0822 - val_loss: 0.0576 - val_root_mean_squared_error: 0.0832\n",
            "Epoch 89/100\n",
            "214/214 [==============================] - 1s 7ms/step - loss: 0.0573 - root_mean_squared_error: 0.0823 - val_loss: 0.0582 - val_root_mean_squared_error: 0.0833\n",
            "Epoch 90/100\n",
            "214/214 [==============================] - 1s 5ms/step - loss: 0.0573 - root_mean_squared_error: 0.0822 - val_loss: 0.0577 - val_root_mean_squared_error: 0.0830\n",
            "Epoch 91/100\n",
            "214/214 [==============================] - 1s 5ms/step - loss: 0.0573 - root_mean_squared_error: 0.0820 - val_loss: 0.0576 - val_root_mean_squared_error: 0.0833\n",
            "Epoch 92/100\n",
            "214/214 [==============================] - 1s 5ms/step - loss: 0.0572 - root_mean_squared_error: 0.0822 - val_loss: 0.0576 - val_root_mean_squared_error: 0.0835\n",
            "Epoch 93/100\n",
            "214/214 [==============================] - 1s 5ms/step - loss: 0.0571 - root_mean_squared_error: 0.0822 - val_loss: 0.0585 - val_root_mean_squared_error: 0.0836\n",
            "Epoch 94/100\n",
            "214/214 [==============================] - 1s 5ms/step - loss: 0.0574 - root_mean_squared_error: 0.0822 - val_loss: 0.0579 - val_root_mean_squared_error: 0.0834\n",
            "Epoch 95/100\n",
            "214/214 [==============================] - 1s 5ms/step - loss: 0.0572 - root_mean_squared_error: 0.0821 - val_loss: 0.0574 - val_root_mean_squared_error: 0.0835\n",
            "Epoch 96/100\n",
            "214/214 [==============================] - 1s 5ms/step - loss: 0.0571 - root_mean_squared_error: 0.0821 - val_loss: 0.0575 - val_root_mean_squared_error: 0.0834\n",
            "Epoch 97/100\n",
            "214/214 [==============================] - 1s 5ms/step - loss: 0.0574 - root_mean_squared_error: 0.0822 - val_loss: 0.0575 - val_root_mean_squared_error: 0.0834\n",
            "Epoch 98/100\n",
            "214/214 [==============================] - 1s 5ms/step - loss: 0.0574 - root_mean_squared_error: 0.0822 - val_loss: 0.0581 - val_root_mean_squared_error: 0.0833\n",
            "Epoch 99/100\n",
            "214/214 [==============================] - 1s 5ms/step - loss: 0.0574 - root_mean_squared_error: 0.0821 - val_loss: 0.0576 - val_root_mean_squared_error: 0.0843\n",
            "Epoch 100/100\n",
            "214/214 [==============================] - 1s 5ms/step - loss: 0.0573 - root_mean_squared_error: 0.0823 - val_loss: 0.0575 - val_root_mean_squared_error: 0.0835\n"
          ]
        }
      ],
      "source": [
        "model_history = model.fit(X, y, epochs=100, validation_split = 0.2 )"
      ]
    },
    {
      "cell_type": "code",
      "execution_count": 31,
      "id": "fc2473fd-f9b9-45e3-a8ab-25ea8444c4f9",
      "metadata": {
        "id": "fc2473fd-f9b9-45e3-a8ab-25ea8444c4f9"
      },
      "outputs": [],
      "source": [
        "# getting predictions for the validation set\n",
        "prediction_x = model.predict(X_test)\n",
        "classes_x = np.argmax(prediction_x, axis = 1)"
      ]
    },
    {
      "cell_type": "code",
      "execution_count": 32,
      "id": "86eeef3d-bc3d-436e-9124-5a5d19ab4bef",
      "metadata": {
        "colab": {
          "base_uri": "https://localhost:8080/",
          "height": 295
        },
        "id": "86eeef3d-bc3d-436e-9124-5a5d19ab4bef",
        "outputId": "4aa57bf6-35a7-48d3-f03a-b274ffa37507"
      },
      "outputs": [
        {
          "output_type": "display_data",
          "data": {
            "text/plain": [
              "<Figure size 432x288 with 1 Axes>"
            ],
            "image/png": "[encoded data removed]"
          },
          "metadata": {
            "needs_background": "light"
          }
        }
      ],
      "source": [
        "# summarize history for loss\n",
        "plt.plot(model_history.history['loss'])\n",
        "plt.plot(model_history.history['val_loss'])\n",
        "plt.title('model loss')\n",
        "plt.ylabel('loss')\n",
        "plt.xlabel('epoch')\n",
        "plt.legend(['train', 'validation'], loc='upper left')\n",
        "plt.show()"
      ]
    },
    {
      "cell_type": "code",
      "execution_count": 33,
      "id": "955f437b-166e-4490-ae30-bf517bfcdb7b",
      "metadata": {
        "colab": {
          "base_uri": "https://localhost:8080/"
        },
        "id": "955f437b-166e-4490-ae30-bf517bfcdb7b",
        "outputId": "3b2e6ce8-d0cb-4855-fe1d-12c80d7d7f1f"
      },
      "outputs": [
        {
          "output_type": "stream",
          "name": "stdout",
          "text": [
            "[[0.11895184 0.11889488 0.11902224 ... 0.11870024 0.11896607 0.11877438]\n",
            " [0.09535778 0.0953122  0.09543712 ... 0.09516288 0.09536144 0.09519511]\n",
            " [0.03310672 0.03303035 0.03320568 ... 0.03292533 0.03320346 0.03298916]\n",
            " ...\n",
            " [0.1367756  0.13667555 0.13687223 ... 0.13643445 0.13681573 0.13655089]\n",
            " [0.2821521  0.28215742 0.28234586 ... 0.28150278 0.28248248 0.2821631 ]\n",
            " [0.08883179 0.08877715 0.0889137  ... 0.08862603 0.0888555  0.08867343]]\n"
          ]
        }
      ],
      "source": [
        "print(prediction_x)"
      ]
    },
    {
      "cell_type": "code",
      "source": [
        "print(classes_x)"
      ],
      "metadata": {
        "colab": {
          "base_uri": "https://localhost:8080/"
        },
        "id": "b-GPHS0jXzzP",
        "outputId": "49a3d81f-9a8d-4989-ec77-902def9a7fe6"
      },
      "id": "b-GPHS0jXzzP",
      "execution_count": 34,
      "outputs": [
        {
          "output_type": "stream",
          "name": "stdout",
          "text": [
            "[4554 4554  454 ... 4526 5569 4554]\n"
          ]
        }
      ]
    },
    {
      "cell_type": "code",
      "execution_count": 35,
      "id": "b4583b04-41f9-419d-a261-c9c5ed4fd030",
      "metadata": {
        "colab": {
          "base_uri": "https://localhost:8080/",
          "height": 295
        },
        "id": "b4583b04-41f9-419d-a261-c9c5ed4fd030",
        "outputId": "e61718dd-b37c-4ed4-9fe9-da7337b62e4f"
      },
      "outputs": [
        {
          "output_type": "display_data",
          "data": {
            "text/plain": [
              "<Figure size 432x288 with 1 Axes>"
            ],
            "image/png": "[encoded data removed]"
          },
          "metadata": {
            "needs_background": "light"
          }
        }
      ],
      "source": [
        "# summarize history for accuracy\n",
        "plt.plot(model_history.history['root_mean_squared_error'])\n",
        "plt.plot(model_history.history['val_root_mean_squared_error'])\n",
        "plt.title('model rmse')\n",
        "plt.ylabel('rmse')\n",
        "plt.xlabel('epoch')\n",
        "plt.legend(['train', 'validation'], loc='upper left')\n",
        "plt.show()"
      ]
    },
    {
      "cell_type": "code",
      "execution_count": 36,
      "id": "b8057d15-2634-4ac8-b98f-268c5d74b5e7",
      "metadata": {
        "id": "b8057d15-2634-4ac8-b98f-268c5d74b5e7",
        "colab": {
          "base_uri": "https://localhost:8080/",
          "height": 206
        },
        "outputId": "730369f0-9115-403f-a83d-651f5ec35a83"
      },
      "outputs": [
        {
          "output_type": "execute_result",
          "data": {
            "text/plain": [
              "   Item_Weight  Item_Fat_Content  Item_Visibility  Item_Type  Item_MRP  \\\n",
              "0     0.964275               0.0         0.023374   0.400000  0.323413   \n",
              "1     0.222983               1.0         0.118737   0.000000  0.235849   \n",
              "2     0.598095               0.0         0.307674   0.933333  0.894140   \n",
              "3     0.164335               0.0         0.047548   0.400000  0.524488   \n",
              "4     0.484706               1.0         0.366458   0.000000  0.862069   \n",
              "\n",
              "   Outlet_Establishment_Year  Outlet_Size  Outlet_Location_Type  Outlet_Type  \n",
              "0                   0.583333          0.5                   0.0     0.000000  \n",
              "1                   0.916667          0.5                   0.5     0.000000  \n",
              "2                   0.541667          0.5                   1.0     1.000000  \n",
              "3                   0.916667          0.5                   0.5     0.000000  \n",
              "4                   0.000000          0.5                   1.0     0.666667  "
            ],
            "text/html": [
              "\n",
              "  <div id=\"df-3cdd6fb0-35ce-4c7e-992d-b8a57f6731b2\">\n",
              "    <div class=\"colab-df-container\">\n",
              "      <div>\n",
              "<style scoped>\n",
              "    .dataframe tbody tr th:only-of-type {\n",
              "        vertical-align: middle;\n",
              "    }\n",
              "\n",
              "    .dataframe tbody tr th {\n",
              "        vertical-align: top;\n",
              "    }\n",
              "\n",
              "    .dataframe thead th {\n",
              "        text-align: right;\n",
              "    }\n",
              "</style>\n",
              "<table border=\"1\" class=\"dataframe\">\n",
              "  <thead>\n",
              "    <tr style=\"text-align: right;\">\n",
              "      <th></th>\n",
              "      <th>Item_Weight</th>\n",
              "      <th>Item_Fat_Content</th>\n",
              "      <th>Item_Visibility</th>\n",
              "      <th>Item_Type</th>\n",
              "      <th>Item_MRP</th>\n",
              "      <th>Outlet_Establishment_Year</th>\n",
              "      <th>Outlet_Size</th>\n",
              "      <th>Outlet_Location_Type</th>\n",
              "      <th>Outlet_Type</th>\n",
              "    </tr>\n",
              "  </thead>\n",
              "  <tbody>\n",
              "    <tr>\n",
              "      <th>0</th>\n",
              "      <td>0.964275</td>\n",
              "      <td>0.0</td>\n",
              "      <td>0.023374</td>\n",
              "      <td>0.400000</td>\n",
              "      <td>0.323413</td>\n",
              "      <td>0.583333</td>\n",
              "      <td>0.5</td>\n",
              "      <td>0.0</td>\n",
              "      <td>0.000000</td>\n",
              "    </tr>\n",
              "    <tr>\n",
              "      <th>1</th>\n",
              "      <td>0.222983</td>\n",
              "      <td>1.0</td>\n",
              "      <td>0.118737</td>\n",
              "      <td>0.000000</td>\n",
              "      <td>0.235849</td>\n",
              "      <td>0.916667</td>\n",
              "      <td>0.5</td>\n",
              "      <td>0.5</td>\n",
              "      <td>0.000000</td>\n",
              "    </tr>\n",
              "    <tr>\n",
              "      <th>2</th>\n",
              "      <td>0.598095</td>\n",
              "      <td>0.0</td>\n",
              "      <td>0.307674</td>\n",
              "      <td>0.933333</td>\n",
              "      <td>0.894140</td>\n",
              "      <td>0.541667</td>\n",
              "      <td>0.5</td>\n",
              "      <td>1.0</td>\n",
              "      <td>1.000000</td>\n",
              "    </tr>\n",
              "    <tr>\n",
              "      <th>3</th>\n",
              "      <td>0.164335</td>\n",
              "      <td>0.0</td>\n",
              "      <td>0.047548</td>\n",
              "      <td>0.400000</td>\n",
              "      <td>0.524488</td>\n",
              "      <td>0.916667</td>\n",
              "      <td>0.5</td>\n",
              "      <td>0.5</td>\n",
              "      <td>0.000000</td>\n",
              "    </tr>\n",
              "    <tr>\n",
              "      <th>4</th>\n",
              "      <td>0.484706</td>\n",
              "      <td>1.0</td>\n",
              "      <td>0.366458</td>\n",
              "      <td>0.000000</td>\n",
              "      <td>0.862069</td>\n",
              "      <td>0.000000</td>\n",
              "      <td>0.5</td>\n",
              "      <td>1.0</td>\n",
              "      <td>0.666667</td>\n",
              "    </tr>\n",
              "  </tbody>\n",
              "</table>\n",
              "</div>\n",
              "      <button class=\"colab-df-convert\" onclick=\"convertToInteractive('df-3cdd6fb0-35ce-4c7e-992d-b8a57f6731b2')\"\n",
              "              title=\"Convert this dataframe to an interactive table.\"\n",
              "              style=\"display:none;\">\n",
              "        \n",
              "  <svg xmlns=\"http://www.w3.org/2000/svg\" height=\"24px\"viewBox=\"0 0 24 24\"\n",
              "       width=\"24px\">\n",
              "    <path d=\"M0 0h24v24H0V0z\" fill=\"none\"/>\n",
              "    <path d=\"M18.56 5.44l.94 2.06.94-2.06 2.06-.94-2.06-.94-.94-2.06-.94 2.06-2.06.94zm-11 1L8.5 8.5l.94-2.06 2.06-.94-2.06-.94L8.5 2.5l-.94 2.06-2.06.94zm10 10l.94 2.06.94-2.06 2.06-.94-2.06-.94-.94-2.06-.94 2.06-2.06.94z\"/><path d=\"M17.41 7.96l-1.37-1.37c-.4-.4-.92-.59-1.43-.59-.52 0-1.04.2-1.43.59L10.3 9.45l-7.72 7.72c-.78.78-.78 2.05 0 2.83L4 21.41c.39.39.9.59 1.41.59.51 0 1.02-.2 1.41-.59l7.78-7.78 2.81-2.81c.8-.78.8-2.07 0-2.86zM5.41 20L4 18.59l7.72-7.72 1.47 1.35L5.41 20z\"/>\n",
              "  </svg>\n",
              "      </button>\n",
              "      \n",
              "  <style>\n",
              "    .colab-df-container {\n",
              "      display:flex;\n",
              "      flex-wrap:wrap;\n",
              "      gap: 12px;\n",
              "    }\n",
              "\n",
              "    .colab-df-convert {\n",
              "      background-color: #E8F0FE;\n",
              "      border: none;\n",
              "      border-radius: 50%;\n",
              "      cursor: pointer;\n",
              "      display: none;\n",
              "      fill: #1967D2;\n",
              "      height: 32px;\n",
              "      padding: 0 0 0 0;\n",
              "      width: 32px;\n",
              "    }\n",
              "\n",
              "    .colab-df-convert:hover {\n",
              "      background-color: #E2EBFA;\n",
              "      box-shadow: 0px 1px 2px rgba(60, 64, 67, 0.3), 0px 1px 3px 1px rgba(60, 64, 67, 0.15);\n",
              "      fill: #174EA6;\n",
              "    }\n",
              "\n",
              "    [theme=dark] .colab-df-convert {\n",
              "      background-color: #3B4455;\n",
              "      fill: #D2E3FC;\n",
              "    }\n",
              "\n",
              "    [theme=dark] .colab-df-convert:hover {\n",
              "      background-color: #434B5C;\n",
              "      box-shadow: 0px 1px 3px 1px rgba(0, 0, 0, 0.15);\n",
              "      filter: drop-shadow(0px 1px 2px rgba(0, 0, 0, 0.3));\n",
              "      fill: #FFFFFF;\n",
              "    }\n",
              "  </style>\n",
              "\n",
              "      <script>\n",
              "        const buttonEl =\n",
              "          document.querySelector('#df-3cdd6fb0-35ce-4c7e-992d-b8a57f6731b2 button.colab-df-convert');\n",
              "        buttonEl.style.display =\n",
              "          google.colab.kernel.accessAllowed ? 'block' : 'none';\n",
              "\n",
              "        async function convertToInteractive(key) {\n",
              "          const element = document.querySelector('#df-3cdd6fb0-35ce-4c7e-992d-b8a57f6731b2');\n",
              "          const dataTable =\n",
              "            await google.colab.kernel.invokeFunction('convertToInteractive',\n",
              "                                                     [key], {});\n",
              "          if (!dataTable) return;\n",
              "\n",
              "          const docLinkHtml = 'Like what you see? Visit the ' +\n",
              "            '<a target=\"_blank\" href=https://colab.research.google.com/notebooks/data_table.ipynb>data table notebook</a>'\n",
              "            + ' to learn more about interactive tables.';\n",
              "          element.innerHTML = '';\n",
              "          dataTable['output_type'] = 'display_data';\n",
              "          await google.colab.output.renderOutput(dataTable, element);\n",
              "          const docLink = document.createElement('div');\n",
              "          docLink.innerHTML = docLinkHtml;\n",
              "          element.appendChild(docLink);\n",
              "        }\n",
              "      </script>\n",
              "    </div>\n",
              "  </div>\n",
              "  "
            ]
          },
          "metadata": {},
          "execution_count": 36
        }
      ],
      "source": [
        "data_test.head()\n"
      ]
    },
    {
      "cell_type": "code",
      "execution_count": 37,
      "id": "3ac4f19e-4ef8-4a59-910c-eccd71751b49",
      "metadata": {
        "id": "3ac4f19e-4ef8-4a59-910c-eccd71751b49",
        "colab": {
          "base_uri": "https://localhost:8080/"
        },
        "outputId": "68589454-b9bb-4ea2-ba34-4a6404190044"
      },
      "outputs": [
        {
          "output_type": "execute_result",
          "data": {
            "text/plain": [
              "(5681, 9)"
            ]
          },
          "metadata": {},
          "execution_count": 37
        }
      ],
      "source": [
        "data_test.shape\n"
      ]
    },
    {
      "cell_type": "code",
      "source": [
        "classes_x.shape"
      ],
      "metadata": {
        "colab": {
          "base_uri": "https://localhost:8080/"
        },
        "id": "zwZUKn-p-eE1",
        "outputId": "c0826b46-fdb7-4d45-ee19-2fdea9852c3c"
      },
      "id": "zwZUKn-p-eE1",
      "execution_count": 38,
      "outputs": [
        {
          "output_type": "execute_result",
          "data": {
            "text/plain": [
              "(5681,)"
            ]
          },
          "metadata": {},
          "execution_count": 38
        }
      ]
    }
  ],
  "metadata": {
    "kernelspec": {
      "display_name": "Python 3 (ipykernel)",
      "language": "python",
      "name": "python3"
    },
    "language_info": {
      "codemirror_mode": {
        "name": "ipython",
        "version": 3
      },
      "file_extension": ".py",
      "mimetype": "text/x-python",
      "name": "python",
      "nbconvert_exporter": "python",
      "pygments_lexer": "ipython3",
      "version": "3.8.12"
    },
    "colab": {
      "provenance": [],
      "include_colab_link": true
    }
  },
  "nbformat": 4,
  "nbformat_minor": 5
}